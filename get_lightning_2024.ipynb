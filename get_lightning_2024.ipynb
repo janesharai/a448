{
 "cells": [
  {
   "cell_type": "code",
   "execution_count": 11,
   "metadata": {},
   "outputs": [
    {
     "name": "stderr",
     "output_type": "stream",
     "text": [
      "python(75661) MallocStackLogging: can't turn off malloc stack logging because it was not enabled.\n"
     ]
    },
    {
     "name": "stdout",
     "output_type": "stream",
     "text": [
      "Requirement already satisfied: goes2go in /Users/janesharai/miniconda3/lib/python3.10/site-packages (2025.2.0)\n",
      "Requirement already satisfied: cartopy>=0.22.0 in /Users/janesharai/miniconda3/lib/python3.10/site-packages (from goes2go) (0.24.1)\n",
      "Requirement already satisfied: h5netcdf in /Users/janesharai/miniconda3/lib/python3.10/site-packages (from goes2go) (1.6.1)\n",
      "Requirement already satisfied: matplotlib in /Users/janesharai/miniconda3/lib/python3.10/site-packages (from goes2go) (3.10.1)\n",
      "Requirement already satisfied: metpy in /Users/janesharai/miniconda3/lib/python3.10/site-packages (from goes2go) (1.6.3)\n",
      "Requirement already satisfied: numpy in /Users/janesharai/miniconda3/lib/python3.10/site-packages (from goes2go) (1.26.4)\n",
      "Requirement already satisfied: pandas in /Users/janesharai/miniconda3/lib/python3.10/site-packages (from goes2go) (2.2.3)\n",
      "Requirement already satisfied: s3fs>=2023.6.0 in /Users/janesharai/miniconda3/lib/python3.10/site-packages (from goes2go) (2024.12.0)\n",
      "Requirement already satisfied: toml in /Users/janesharai/miniconda3/lib/python3.10/site-packages (from goes2go) (0.10.2)\n",
      "Requirement already satisfied: xarray in /Users/janesharai/miniconda3/lib/python3.10/site-packages (from goes2go) (2025.1.2)\n",
      "Requirement already satisfied: shapely>=1.8 in /Users/janesharai/miniconda3/lib/python3.10/site-packages (from cartopy>=0.22.0->goes2go) (2.0.4)\n",
      "Requirement already satisfied: packaging>=21 in /Users/janesharai/miniconda3/lib/python3.10/site-packages (from cartopy>=0.22.0->goes2go) (23.2)\n",
      "Requirement already satisfied: pyshp>=2.3 in /Users/janesharai/miniconda3/lib/python3.10/site-packages (from cartopy>=0.22.0->goes2go) (2.3.1)\n",
      "Requirement already satisfied: pyproj>=3.3.1 in /Users/janesharai/miniconda3/lib/python3.10/site-packages (from cartopy>=0.22.0->goes2go) (3.6.1)\n",
      "Requirement already satisfied: contourpy>=1.0.1 in /Users/janesharai/miniconda3/lib/python3.10/site-packages (from matplotlib->goes2go) (1.3.1)\n",
      "Requirement already satisfied: cycler>=0.10 in /Users/janesharai/miniconda3/lib/python3.10/site-packages (from matplotlib->goes2go) (0.12.1)\n",
      "Requirement already satisfied: fonttools>=4.22.0 in /Users/janesharai/miniconda3/lib/python3.10/site-packages (from matplotlib->goes2go) (4.56.0)\n",
      "Requirement already satisfied: kiwisolver>=1.3.1 in /Users/janesharai/miniconda3/lib/python3.10/site-packages (from matplotlib->goes2go) (1.4.7)\n",
      "Requirement already satisfied: pillow>=8 in /Users/janesharai/miniconda3/lib/python3.10/site-packages (from matplotlib->goes2go) (10.3.0)\n",
      "Requirement already satisfied: pyparsing>=2.3.1 in /Users/janesharai/miniconda3/lib/python3.10/site-packages (from matplotlib->goes2go) (3.2.1)\n",
      "Requirement already satisfied: python-dateutil>=2.7 in /Users/janesharai/miniconda3/lib/python3.10/site-packages (from matplotlib->goes2go) (2.9.0.post0)\n",
      "Requirement already satisfied: aiobotocore<3.0.0,>=2.5.4 in /Users/janesharai/miniconda3/lib/python3.10/site-packages (from s3fs>=2023.6.0->goes2go) (2.16.1)\n",
      "Requirement already satisfied: fsspec==2024.12.0.* in /Users/janesharai/miniconda3/lib/python3.10/site-packages (from s3fs>=2023.6.0->goes2go) (2024.12.0)\n",
      "Requirement already satisfied: aiohttp!=4.0.0a0,!=4.0.0a1 in /Users/janesharai/miniconda3/lib/python3.10/site-packages (from s3fs>=2023.6.0->goes2go) (3.11.11)\n",
      "Requirement already satisfied: h5py in /Users/janesharai/miniconda3/lib/python3.10/site-packages (from h5netcdf->goes2go) (3.13.0)\n",
      "Requirement already satisfied: pint>=0.17 in /Users/janesharai/miniconda3/lib/python3.10/site-packages (from metpy->goes2go) (0.24.4)\n",
      "Requirement already satisfied: pooch>=1.2.0 in /Users/janesharai/miniconda3/lib/python3.10/site-packages (from metpy->goes2go) (1.8.2)\n",
      "Requirement already satisfied: scipy>=1.8.0 in /Users/janesharai/miniconda3/lib/python3.10/site-packages (from metpy->goes2go) (1.15.1)\n",
      "Requirement already satisfied: traitlets>=5.0.5 in /Users/janesharai/miniconda3/lib/python3.10/site-packages (from metpy->goes2go) (5.14.3)\n",
      "Requirement already satisfied: pytz>=2020.1 in /Users/janesharai/miniconda3/lib/python3.10/site-packages (from pandas->goes2go) (2024.1)\n",
      "Requirement already satisfied: tzdata>=2022.7 in /Users/janesharai/miniconda3/lib/python3.10/site-packages (from pandas->goes2go) (2025.1)\n",
      "Requirement already satisfied: botocore<1.35.89,>=1.35.74 in /Users/janesharai/miniconda3/lib/python3.10/site-packages (from aiobotocore<3.0.0,>=2.5.4->s3fs>=2023.6.0->goes2go) (1.35.88)\n",
      "Requirement already satisfied: wrapt<2.0.0,>=1.10.10 in /Users/janesharai/miniconda3/lib/python3.10/site-packages (from aiobotocore<3.0.0,>=2.5.4->s3fs>=2023.6.0->goes2go) (1.17.2)\n",
      "Requirement already satisfied: aioitertools<1.0.0,>=0.5.1 in /Users/janesharai/miniconda3/lib/python3.10/site-packages (from aiobotocore<3.0.0,>=2.5.4->s3fs>=2023.6.0->goes2go) (0.12.0)\n",
      "Requirement already satisfied: aiohappyeyeballs>=2.3.0 in /Users/janesharai/miniconda3/lib/python3.10/site-packages (from aiohttp!=4.0.0a0,!=4.0.0a1->s3fs>=2023.6.0->goes2go) (2.4.4)\n",
      "Requirement already satisfied: aiosignal>=1.1.2 in /Users/janesharai/miniconda3/lib/python3.10/site-packages (from aiohttp!=4.0.0a0,!=4.0.0a1->s3fs>=2023.6.0->goes2go) (1.3.2)\n",
      "Requirement already satisfied: async-timeout<6.0,>=4.0 in /Users/janesharai/miniconda3/lib/python3.10/site-packages (from aiohttp!=4.0.0a0,!=4.0.0a1->s3fs>=2023.6.0->goes2go) (5.0.1)\n",
      "Requirement already satisfied: attrs>=17.3.0 in /Users/janesharai/miniconda3/lib/python3.10/site-packages (from aiohttp!=4.0.0a0,!=4.0.0a1->s3fs>=2023.6.0->goes2go) (24.3.0)\n",
      "Requirement already satisfied: frozenlist>=1.1.1 in /Users/janesharai/miniconda3/lib/python3.10/site-packages (from aiohttp!=4.0.0a0,!=4.0.0a1->s3fs>=2023.6.0->goes2go) (1.5.0)\n",
      "Requirement already satisfied: multidict<7.0,>=4.5 in /Users/janesharai/miniconda3/lib/python3.10/site-packages (from aiohttp!=4.0.0a0,!=4.0.0a1->s3fs>=2023.6.0->goes2go) (6.1.0)\n",
      "Requirement already satisfied: propcache>=0.2.0 in /Users/janesharai/miniconda3/lib/python3.10/site-packages (from aiohttp!=4.0.0a0,!=4.0.0a1->s3fs>=2023.6.0->goes2go) (0.2.1)\n",
      "Requirement already satisfied: yarl<2.0,>=1.17.0 in /Users/janesharai/miniconda3/lib/python3.10/site-packages (from aiohttp!=4.0.0a0,!=4.0.0a1->s3fs>=2023.6.0->goes2go) (1.18.3)\n",
      "Requirement already satisfied: platformdirs>=2.1.0 in /Users/janesharai/miniconda3/lib/python3.10/site-packages (from pint>=0.17->metpy->goes2go) (4.1.0)\n",
      "Requirement already satisfied: typing-extensions>=4.0.0 in /Users/janesharai/miniconda3/lib/python3.10/site-packages (from pint>=0.17->metpy->goes2go) (4.12.2)\n",
      "Requirement already satisfied: flexcache>=0.3 in /Users/janesharai/miniconda3/lib/python3.10/site-packages (from pint>=0.17->metpy->goes2go) (0.3)\n",
      "Requirement already satisfied: flexparser>=0.4 in /Users/janesharai/miniconda3/lib/python3.10/site-packages (from pint>=0.17->metpy->goes2go) (0.4)\n",
      "Requirement already satisfied: requests>=2.19.0 in /Users/janesharai/miniconda3/lib/python3.10/site-packages (from pooch>=1.2.0->metpy->goes2go) (2.31.0)\n",
      "Requirement already satisfied: certifi in /Users/janesharai/miniconda3/lib/python3.10/site-packages (from pyproj>=3.3.1->cartopy>=0.22.0->goes2go) (2025.1.31)\n",
      "Requirement already satisfied: six>=1.5 in /Users/janesharai/miniconda3/lib/python3.10/site-packages (from python-dateutil>=2.7->matplotlib->goes2go) (1.16.0)\n",
      "Requirement already satisfied: jmespath<2.0.0,>=0.7.1 in /Users/janesharai/miniconda3/lib/python3.10/site-packages (from botocore<1.35.89,>=1.35.74->aiobotocore<3.0.0,>=2.5.4->s3fs>=2023.6.0->goes2go) (1.0.1)\n",
      "Requirement already satisfied: urllib3!=2.2.0,<3,>=1.25.4 in /Users/janesharai/miniconda3/lib/python3.10/site-packages (from botocore<1.35.89,>=1.35.74->aiobotocore<3.0.0,>=2.5.4->s3fs>=2023.6.0->goes2go) (2.1.0)\n",
      "Requirement already satisfied: charset-normalizer<4,>=2 in /Users/janesharai/miniconda3/lib/python3.10/site-packages (from requests>=2.19.0->pooch>=1.2.0->metpy->goes2go) (3.3.2)\n",
      "Requirement already satisfied: idna<4,>=2.5 in /Users/janesharai/miniconda3/lib/python3.10/site-packages (from requests>=2.19.0->pooch>=1.2.0->metpy->goes2go) (3.6)\n",
      "Note: you may need to restart the kernel to use updated packages.\n"
     ]
    }
   ],
   "source": [
    "pip install goes2go"
   ]
  },
  {
   "cell_type": "code",
   "execution_count": 1,
   "metadata": {},
   "outputs": [
    {
     "name": "stdout",
     "output_type": "stream",
     "text": [
      "Ignored missing dir: noaa-goes16/GLM-L2-LCFA/2024/046/14/\n",
      "Ignored missing dir: noaa-goes16/GLM-L2-LCFA/2024/253/02/\n",
      "Ignored missing dir: noaa-goes16/GLM-L2-LCFA/2024/253/03/\n",
      "Ignored missing dir: noaa-goes16/GLM-L2-LCFA/2024/253/04/\n",
      "Ignored missing dir: noaa-goes16/GLM-L2-LCFA/2024/253/05/\n",
      "Ignored missing dir: noaa-goes16/GLM-L2-LCFA/2024/253/18/\n",
      "Ignored missing dir: noaa-goes16/GLM-L2-LCFA/2024/272/18/\n",
      "Ignored missing dir: noaa-goes16/GLM-L2-LCFA/2024/272/19/\n",
      "Ignored missing dir: noaa-goes16/GLM-L2-LCFA/2024/272/20/\n",
      "Ignored missing dir: noaa-goes16/GLM-L2-LCFA/2024/272/21/\n",
      "Ignored missing dir: noaa-goes16/GLM-L2-LCFA/2024/272/22/\n",
      "Ignored missing dir: noaa-goes16/GLM-L2-LCFA/2024/272/23/\n",
      "Ignored missing dir: noaa-goes16/GLM-L2-LCFA/2024/273/00/\n",
      "Ignored missing dir: noaa-goes16/GLM-L2-LCFA/2024/273/01/\n",
      "Ignored missing dir: noaa-goes16/GLM-L2-LCFA/2024/276/13/\n",
      "Ignored missing dir: noaa-goes16/GLM-L2-LCFA/2024/276/14/\n",
      "Ignored missing dir: noaa-goes16/GLM-L2-LCFA/2024/320/18/\n",
      "Ignored missing dir: noaa-goes16/GLM-L2-LCFA/2024/320/19/\n",
      "Ignored missing dir: noaa-goes16/GLM-L2-LCFA/2024/322/14/\n",
      "Ignored missing dir: noaa-goes16/GLM-L2-LCFA/2024/338/08/\n",
      "Ignored missing dir: noaa-goes16/GLM-L2-LCFA/2024/338/09/\n",
      "Ignored missing dir: noaa-goes16/GLM-L2-LCFA/2024/341/10/\n"
     ]
    },
    {
     "ename": "OSError",
     "evalue": "[Errno 28] No space left on device",
     "output_type": "error",
     "traceback": [
      "\u001b[0;31m---------------------------------------------------------------------------\u001b[0m",
      "\u001b[0;31mOSError\u001b[0m                                   Traceback (most recent call last)",
      "Cell \u001b[0;32mIn[1], line 7\u001b[0m\n\u001b[1;32m      5\u001b[0m start \u001b[38;5;241m=\u001b[39m \u001b[38;5;124m\"\u001b[39m\u001b[38;5;124m2024-01-01 00:00\u001b[39m\u001b[38;5;124m\"\u001b[39m\n\u001b[1;32m      6\u001b[0m end \u001b[38;5;241m=\u001b[39m \u001b[38;5;124m\"\u001b[39m\u001b[38;5;124m2024-12-31 23:59\u001b[39m\u001b[38;5;124m\"\u001b[39m\n\u001b[0;32m----> 7\u001b[0m g \u001b[38;5;241m=\u001b[39m \u001b[43mgoes_timerange\u001b[49m\u001b[43m(\u001b[49m\u001b[43mstart\u001b[49m\u001b[43m,\u001b[49m\u001b[43m \u001b[49m\u001b[43mend\u001b[49m\u001b[43m,\u001b[49m\u001b[43m \u001b[49m\u001b[43msatellite\u001b[49m\u001b[38;5;241;43m=\u001b[39;49m\u001b[38;5;124;43m\"\u001b[39;49m\u001b[38;5;124;43mgoes16\u001b[39;49m\u001b[38;5;124;43m\"\u001b[39;49m\u001b[43m,\u001b[49m\u001b[43m \u001b[49m\u001b[43mproduct\u001b[49m\u001b[38;5;241;43m=\u001b[39;49m\u001b[38;5;124;43m\"\u001b[39;49m\u001b[38;5;124;43mGLM-L2-LCFA\u001b[39;49m\u001b[38;5;124;43m\"\u001b[39;49m\u001b[43m,\u001b[49m\u001b[43m \u001b[49m\u001b[43mreturn_as\u001b[49m\u001b[38;5;241;43m=\u001b[39;49m\u001b[38;5;124;43m\"\u001b[39;49m\u001b[38;5;124;43mfilelist\u001b[39;49m\u001b[38;5;124;43m\"\u001b[39;49m\u001b[43m)\u001b[49m\n\u001b[1;32m      8\u001b[0m \u001b[38;5;66;03m# %%\u001b[39;00m\n",
      "File \u001b[0;32m~/miniconda3/lib/python3.10/site-packages/goes2go/data.py:428\u001b[0m, in \u001b[0;36mgoes_timerange\u001b[0;34m(start, end, recent, satellite, product, domain, return_as, download, overwrite, save_dir, max_cpus, bands, s3_refresh, ignore_missing, verbose)\u001b[0m\n\u001b[1;32m    425\u001b[0m df \u001b[38;5;241m=\u001b[39m _goes_file_df(satellite, product, start, end, bands\u001b[38;5;241m=\u001b[39mbands, refresh\u001b[38;5;241m=\u001b[39ms3_refresh, ignore_missing\u001b[38;5;241m=\u001b[39mignore_missing)\n\u001b[1;32m    427\u001b[0m \u001b[38;5;28;01mif\u001b[39;00m download:\n\u001b[0;32m--> 428\u001b[0m     \u001b[43m_download\u001b[49m\u001b[43m(\u001b[49m\u001b[43mdf\u001b[49m\u001b[43m,\u001b[49m\u001b[43m \u001b[49m\u001b[43msave_dir\u001b[49m\u001b[38;5;241;43m=\u001b[39;49m\u001b[43msave_dir\u001b[49m\u001b[43m,\u001b[49m\u001b[43m \u001b[49m\u001b[43moverwrite\u001b[49m\u001b[38;5;241;43m=\u001b[39;49m\u001b[43moverwrite\u001b[49m\u001b[43m,\u001b[49m\u001b[43m \u001b[49m\u001b[43mverbose\u001b[49m\u001b[38;5;241;43m=\u001b[39;49m\u001b[43mverbose\u001b[49m\u001b[43m)\u001b[49m\n\u001b[1;32m    430\u001b[0m \u001b[38;5;28;01mif\u001b[39;00m return_as \u001b[38;5;241m==\u001b[39m \u001b[38;5;124m\"\u001b[39m\u001b[38;5;124mfilelist\u001b[39m\u001b[38;5;124m\"\u001b[39m:\n\u001b[1;32m    431\u001b[0m     df\u001b[38;5;241m.\u001b[39mattrs[\u001b[38;5;124m\"\u001b[39m\u001b[38;5;124mfilePath\u001b[39m\u001b[38;5;124m\"\u001b[39m] \u001b[38;5;241m=\u001b[39m save_dir\n",
      "File \u001b[0;32m~/miniconda3/lib/python3.10/site-packages/goes2go/data.py:220\u001b[0m, in \u001b[0;36m_download\u001b[0;34m(df, save_dir, overwrite, max_threads, verbose)\u001b[0m\n\u001b[1;32m    217\u001b[0m     futures \u001b[38;5;241m=\u001b[39m [exe\u001b[38;5;241m.\u001b[39msubmit(do_download, src) \u001b[38;5;28;01mfor\u001b[39;00m src \u001b[38;5;129;01min\u001b[39;00m df\u001b[38;5;241m.\u001b[39mfile]\n\u001b[1;32m    219\u001b[0m     \u001b[38;5;66;03m# nothing is returned in the list\u001b[39;00m\n\u001b[0;32m--> 220\u001b[0m     this_list \u001b[38;5;241m=\u001b[39m [future\u001b[38;5;241m.\u001b[39mresult() \u001b[38;5;28;01mfor\u001b[39;00m future \u001b[38;5;129;01min\u001b[39;00m as_completed(futures)]\n\u001b[1;32m    222\u001b[0m \u001b[38;5;28mprint\u001b[39m(\n\u001b[1;32m    223\u001b[0m     \u001b[38;5;124mf\u001b[39m\u001b[38;5;124m\"\u001b[39m\u001b[38;5;124m📦 Finished downloading [\u001b[39m\u001b[38;5;132;01m{\u001b[39;00m\u001b[38;5;28mlen\u001b[39m(df)\u001b[38;5;132;01m}\u001b[39;00m\u001b[38;5;124m] files to [\u001b[39m\u001b[38;5;132;01m{\u001b[39;00msave_dir\u001b[38;5;241m/\u001b[39mPath(df\u001b[38;5;241m.\u001b[39mfile[\u001b[38;5;241m0\u001b[39m])\u001b[38;5;241m.\u001b[39mparents[\u001b[38;5;241m3\u001b[39m]\u001b[38;5;132;01m}\u001b[39;00m\u001b[38;5;124m].\u001b[39m\u001b[38;5;124m\"\u001b[39m\n\u001b[1;32m    224\u001b[0m )\n",
      "File \u001b[0;32m~/miniconda3/lib/python3.10/site-packages/goes2go/data.py:220\u001b[0m, in \u001b[0;36m<listcomp>\u001b[0;34m(.0)\u001b[0m\n\u001b[1;32m    217\u001b[0m     futures \u001b[38;5;241m=\u001b[39m [exe\u001b[38;5;241m.\u001b[39msubmit(do_download, src) \u001b[38;5;28;01mfor\u001b[39;00m src \u001b[38;5;129;01min\u001b[39;00m df\u001b[38;5;241m.\u001b[39mfile]\n\u001b[1;32m    219\u001b[0m     \u001b[38;5;66;03m# nothing is returned in the list\u001b[39;00m\n\u001b[0;32m--> 220\u001b[0m     this_list \u001b[38;5;241m=\u001b[39m [\u001b[43mfuture\u001b[49m\u001b[38;5;241;43m.\u001b[39;49m\u001b[43mresult\u001b[49m\u001b[43m(\u001b[49m\u001b[43m)\u001b[49m \u001b[38;5;28;01mfor\u001b[39;00m future \u001b[38;5;129;01min\u001b[39;00m as_completed(futures)]\n\u001b[1;32m    222\u001b[0m \u001b[38;5;28mprint\u001b[39m(\n\u001b[1;32m    223\u001b[0m     \u001b[38;5;124mf\u001b[39m\u001b[38;5;124m\"\u001b[39m\u001b[38;5;124m📦 Finished downloading [\u001b[39m\u001b[38;5;132;01m{\u001b[39;00m\u001b[38;5;28mlen\u001b[39m(df)\u001b[38;5;132;01m}\u001b[39;00m\u001b[38;5;124m] files to [\u001b[39m\u001b[38;5;132;01m{\u001b[39;00msave_dir\u001b[38;5;241m/\u001b[39mPath(df\u001b[38;5;241m.\u001b[39mfile[\u001b[38;5;241m0\u001b[39m])\u001b[38;5;241m.\u001b[39mparents[\u001b[38;5;241m3\u001b[39m]\u001b[38;5;132;01m}\u001b[39;00m\u001b[38;5;124m].\u001b[39m\u001b[38;5;124m\"\u001b[39m\n\u001b[1;32m    224\u001b[0m )\n",
      "File \u001b[0;32m~/miniconda3/lib/python3.10/concurrent/futures/_base.py:451\u001b[0m, in \u001b[0;36mFuture.result\u001b[0;34m(self, timeout)\u001b[0m\n\u001b[1;32m    449\u001b[0m     \u001b[38;5;28;01mraise\u001b[39;00m CancelledError()\n\u001b[1;32m    450\u001b[0m \u001b[38;5;28;01melif\u001b[39;00m \u001b[38;5;28mself\u001b[39m\u001b[38;5;241m.\u001b[39m_state \u001b[38;5;241m==\u001b[39m FINISHED:\n\u001b[0;32m--> 451\u001b[0m     \u001b[38;5;28;01mreturn\u001b[39;00m \u001b[38;5;28;43mself\u001b[39;49m\u001b[38;5;241;43m.\u001b[39;49m\u001b[43m__get_result\u001b[49m\u001b[43m(\u001b[49m\u001b[43m)\u001b[49m\n\u001b[1;32m    453\u001b[0m \u001b[38;5;28mself\u001b[39m\u001b[38;5;241m.\u001b[39m_condition\u001b[38;5;241m.\u001b[39mwait(timeout)\n\u001b[1;32m    455\u001b[0m \u001b[38;5;28;01mif\u001b[39;00m \u001b[38;5;28mself\u001b[39m\u001b[38;5;241m.\u001b[39m_state \u001b[38;5;129;01min\u001b[39;00m [CANCELLED, CANCELLED_AND_NOTIFIED]:\n",
      "File \u001b[0;32m~/miniconda3/lib/python3.10/concurrent/futures/_base.py:403\u001b[0m, in \u001b[0;36mFuture.__get_result\u001b[0;34m(self)\u001b[0m\n\u001b[1;32m    401\u001b[0m \u001b[38;5;28;01mif\u001b[39;00m \u001b[38;5;28mself\u001b[39m\u001b[38;5;241m.\u001b[39m_exception:\n\u001b[1;32m    402\u001b[0m     \u001b[38;5;28;01mtry\u001b[39;00m:\n\u001b[0;32m--> 403\u001b[0m         \u001b[38;5;28;01mraise\u001b[39;00m \u001b[38;5;28mself\u001b[39m\u001b[38;5;241m.\u001b[39m_exception\n\u001b[1;32m    404\u001b[0m     \u001b[38;5;28;01mfinally\u001b[39;00m:\n\u001b[1;32m    405\u001b[0m         \u001b[38;5;66;03m# Break a reference cycle with the exception in self._exception\u001b[39;00m\n\u001b[1;32m    406\u001b[0m         \u001b[38;5;28mself\u001b[39m \u001b[38;5;241m=\u001b[39m \u001b[38;5;28;01mNone\u001b[39;00m\n",
      "File \u001b[0;32m~/miniconda3/lib/python3.10/concurrent/futures/thread.py:58\u001b[0m, in \u001b[0;36m_WorkItem.run\u001b[0;34m(self)\u001b[0m\n\u001b[1;32m     55\u001b[0m     \u001b[38;5;28;01mreturn\u001b[39;00m\n\u001b[1;32m     57\u001b[0m \u001b[38;5;28;01mtry\u001b[39;00m:\n\u001b[0;32m---> 58\u001b[0m     result \u001b[38;5;241m=\u001b[39m \u001b[38;5;28;43mself\u001b[39;49m\u001b[38;5;241;43m.\u001b[39;49m\u001b[43mfn\u001b[49m\u001b[43m(\u001b[49m\u001b[38;5;241;43m*\u001b[39;49m\u001b[38;5;28;43mself\u001b[39;49m\u001b[38;5;241;43m.\u001b[39;49m\u001b[43margs\u001b[49m\u001b[43m,\u001b[49m\u001b[43m \u001b[49m\u001b[38;5;241;43m*\u001b[39;49m\u001b[38;5;241;43m*\u001b[39;49m\u001b[38;5;28;43mself\u001b[39;49m\u001b[38;5;241;43m.\u001b[39;49m\u001b[43mkwargs\u001b[49m\u001b[43m)\u001b[49m\n\u001b[1;32m     59\u001b[0m \u001b[38;5;28;01mexcept\u001b[39;00m \u001b[38;5;167;01mBaseException\u001b[39;00m \u001b[38;5;28;01mas\u001b[39;00m exc:\n\u001b[1;32m     60\u001b[0m     \u001b[38;5;28mself\u001b[39m\u001b[38;5;241m.\u001b[39mfuture\u001b[38;5;241m.\u001b[39mset_exception(exc)\n",
      "File \u001b[0;32m~/miniconda3/lib/python3.10/site-packages/goes2go/data.py:209\u001b[0m, in \u001b[0;36m_download.<locals>.do_download\u001b[0;34m(src)\u001b[0m\n\u001b[1;32m    206\u001b[0m         \u001b[38;5;28mprint\u001b[39m(\u001b[38;5;124mf\u001b[39m\u001b[38;5;124m\"\u001b[39m\u001b[38;5;124m 👮🏻‍♂️ File already exists. Do not overwrite: \u001b[39m\u001b[38;5;132;01m{\u001b[39;00mdst\u001b[38;5;132;01m}\u001b[39;00m\u001b[38;5;124m\"\u001b[39m)\n\u001b[1;32m    207\u001b[0m \u001b[38;5;28;01melse\u001b[39;00m:\n\u001b[1;32m    208\u001b[0m     \u001b[38;5;66;03m# Downloading file from AWS\u001b[39;00m\n\u001b[0;32m--> 209\u001b[0m     \u001b[43mfs\u001b[49m\u001b[38;5;241;43m.\u001b[39;49m\u001b[43mget\u001b[49m\u001b[43m(\u001b[49m\u001b[43msrc\u001b[49m\u001b[43m,\u001b[49m\u001b[43m \u001b[49m\u001b[38;5;28;43mstr\u001b[39;49m\u001b[43m(\u001b[49m\u001b[43mdst\u001b[49m\u001b[43m)\u001b[49m\u001b[43m)\u001b[49m\n",
      "File \u001b[0;32m~/miniconda3/lib/python3.10/site-packages/fsspec/asyn.py:118\u001b[0m, in \u001b[0;36msync_wrapper.<locals>.wrapper\u001b[0;34m(*args, **kwargs)\u001b[0m\n\u001b[1;32m    115\u001b[0m \u001b[38;5;129m@functools\u001b[39m\u001b[38;5;241m.\u001b[39mwraps(func)\n\u001b[1;32m    116\u001b[0m \u001b[38;5;28;01mdef\u001b[39;00m\u001b[38;5;250m \u001b[39m\u001b[38;5;21mwrapper\u001b[39m(\u001b[38;5;241m*\u001b[39margs, \u001b[38;5;241m*\u001b[39m\u001b[38;5;241m*\u001b[39mkwargs):\n\u001b[1;32m    117\u001b[0m     \u001b[38;5;28mself\u001b[39m \u001b[38;5;241m=\u001b[39m obj \u001b[38;5;129;01mor\u001b[39;00m args[\u001b[38;5;241m0\u001b[39m]\n\u001b[0;32m--> 118\u001b[0m     \u001b[38;5;28;01mreturn\u001b[39;00m \u001b[43msync\u001b[49m\u001b[43m(\u001b[49m\u001b[38;5;28;43mself\u001b[39;49m\u001b[38;5;241;43m.\u001b[39;49m\u001b[43mloop\u001b[49m\u001b[43m,\u001b[49m\u001b[43m \u001b[49m\u001b[43mfunc\u001b[49m\u001b[43m,\u001b[49m\u001b[43m \u001b[49m\u001b[38;5;241;43m*\u001b[39;49m\u001b[43margs\u001b[49m\u001b[43m,\u001b[49m\u001b[43m \u001b[49m\u001b[38;5;241;43m*\u001b[39;49m\u001b[38;5;241;43m*\u001b[39;49m\u001b[43mkwargs\u001b[49m\u001b[43m)\u001b[49m\n",
      "File \u001b[0;32m~/miniconda3/lib/python3.10/site-packages/fsspec/asyn.py:103\u001b[0m, in \u001b[0;36msync\u001b[0;34m(loop, func, timeout, *args, **kwargs)\u001b[0m\n\u001b[1;32m    101\u001b[0m     \u001b[38;5;28;01mraise\u001b[39;00m FSTimeoutError \u001b[38;5;28;01mfrom\u001b[39;00m\u001b[38;5;250m \u001b[39m\u001b[38;5;21;01mreturn_result\u001b[39;00m\n\u001b[1;32m    102\u001b[0m \u001b[38;5;28;01melif\u001b[39;00m \u001b[38;5;28misinstance\u001b[39m(return_result, \u001b[38;5;167;01mBaseException\u001b[39;00m):\n\u001b[0;32m--> 103\u001b[0m     \u001b[38;5;28;01mraise\u001b[39;00m return_result\n\u001b[1;32m    104\u001b[0m \u001b[38;5;28;01melse\u001b[39;00m:\n\u001b[1;32m    105\u001b[0m     \u001b[38;5;28;01mreturn\u001b[39;00m return_result\n",
      "File \u001b[0;32m~/miniconda3/lib/python3.10/site-packages/fsspec/asyn.py:56\u001b[0m, in \u001b[0;36m_runner\u001b[0;34m(event, coro, result, timeout)\u001b[0m\n\u001b[1;32m     54\u001b[0m     coro \u001b[38;5;241m=\u001b[39m asyncio\u001b[38;5;241m.\u001b[39mwait_for(coro, timeout\u001b[38;5;241m=\u001b[39mtimeout)\n\u001b[1;32m     55\u001b[0m \u001b[38;5;28;01mtry\u001b[39;00m:\n\u001b[0;32m---> 56\u001b[0m     result[\u001b[38;5;241m0\u001b[39m] \u001b[38;5;241m=\u001b[39m \u001b[38;5;28;01mawait\u001b[39;00m coro\n\u001b[1;32m     57\u001b[0m \u001b[38;5;28;01mexcept\u001b[39;00m \u001b[38;5;167;01mException\u001b[39;00m \u001b[38;5;28;01mas\u001b[39;00m ex:\n\u001b[1;32m     58\u001b[0m     result[\u001b[38;5;241m0\u001b[39m] \u001b[38;5;241m=\u001b[39m ex\n",
      "File \u001b[0;32m~/miniconda3/lib/python3.10/site-packages/fsspec/asyn.py:669\u001b[0m, in \u001b[0;36mAsyncFileSystem._get\u001b[0;34m(self, rpath, lpath, recursive, callback, maxdepth, **kwargs)\u001b[0m\n\u001b[1;32m    667\u001b[0m     get_file \u001b[38;5;241m=\u001b[39m callback\u001b[38;5;241m.\u001b[39mbranch_coro(\u001b[38;5;28mself\u001b[39m\u001b[38;5;241m.\u001b[39m_get_file)\n\u001b[1;32m    668\u001b[0m     coros\u001b[38;5;241m.\u001b[39mappend(get_file(rpath, lpath, \u001b[38;5;241m*\u001b[39m\u001b[38;5;241m*\u001b[39mkwargs))\n\u001b[0;32m--> 669\u001b[0m \u001b[38;5;28;01mreturn\u001b[39;00m \u001b[38;5;28;01mawait\u001b[39;00m _run_coros_in_chunks(\n\u001b[1;32m    670\u001b[0m     coros, batch_size\u001b[38;5;241m=\u001b[39mbatch_size, callback\u001b[38;5;241m=\u001b[39mcallback\n\u001b[1;32m    671\u001b[0m )\n",
      "File \u001b[0;32m~/miniconda3/lib/python3.10/site-packages/fsspec/asyn.py:268\u001b[0m, in \u001b[0;36m_run_coros_in_chunks\u001b[0;34m(coros, batch_size, callback, timeout, return_exceptions, nofiles)\u001b[0m\n\u001b[1;32m    266\u001b[0m     done, pending \u001b[38;5;241m=\u001b[39m \u001b[38;5;28;01mawait\u001b[39;00m asyncio\u001b[38;5;241m.\u001b[39mwait(pending, return_when\u001b[38;5;241m=\u001b[39masyncio\u001b[38;5;241m.\u001b[39mFIRST_COMPLETED)\n\u001b[1;32m    267\u001b[0m     \u001b[38;5;28;01mwhile\u001b[39;00m done:\n\u001b[0;32m--> 268\u001b[0m         result, k \u001b[38;5;241m=\u001b[39m \u001b[38;5;28;01mawait\u001b[39;00m done\u001b[38;5;241m.\u001b[39mpop()\n\u001b[1;32m    269\u001b[0m         results[k] \u001b[38;5;241m=\u001b[39m result\n\u001b[1;32m    271\u001b[0m \u001b[38;5;28;01mreturn\u001b[39;00m results\n",
      "File \u001b[0;32m~/miniconda3/lib/python3.10/site-packages/fsspec/asyn.py:245\u001b[0m, in \u001b[0;36m_run_coros_in_chunks.<locals>._run_coro\u001b[0;34m(coro, i)\u001b[0m\n\u001b[1;32m    243\u001b[0m \u001b[38;5;28;01masync\u001b[39;00m \u001b[38;5;28;01mdef\u001b[39;00m\u001b[38;5;250m \u001b[39m\u001b[38;5;21m_run_coro\u001b[39m(coro, i):\n\u001b[1;32m    244\u001b[0m     \u001b[38;5;28;01mtry\u001b[39;00m:\n\u001b[0;32m--> 245\u001b[0m         \u001b[38;5;28;01mreturn\u001b[39;00m \u001b[38;5;28;01mawait\u001b[39;00m asyncio\u001b[38;5;241m.\u001b[39mwait_for(coro, timeout\u001b[38;5;241m=\u001b[39mtimeout), i\n\u001b[1;32m    246\u001b[0m     \u001b[38;5;28;01mexcept\u001b[39;00m \u001b[38;5;167;01mException\u001b[39;00m \u001b[38;5;28;01mas\u001b[39;00m e:\n\u001b[1;32m    247\u001b[0m         \u001b[38;5;28;01mif\u001b[39;00m \u001b[38;5;129;01mnot\u001b[39;00m return_exceptions:\n",
      "File \u001b[0;32m~/miniconda3/lib/python3.10/asyncio/tasks.py:408\u001b[0m, in \u001b[0;36mwait_for\u001b[0;34m(fut, timeout)\u001b[0m\n\u001b[1;32m    405\u001b[0m loop \u001b[38;5;241m=\u001b[39m events\u001b[38;5;241m.\u001b[39mget_running_loop()\n\u001b[1;32m    407\u001b[0m \u001b[38;5;28;01mif\u001b[39;00m timeout \u001b[38;5;129;01mis\u001b[39;00m \u001b[38;5;28;01mNone\u001b[39;00m:\n\u001b[0;32m--> 408\u001b[0m     \u001b[38;5;28;01mreturn\u001b[39;00m \u001b[38;5;28;01mawait\u001b[39;00m fut\n\u001b[1;32m    410\u001b[0m \u001b[38;5;28;01mif\u001b[39;00m timeout \u001b[38;5;241m<\u001b[39m\u001b[38;5;241m=\u001b[39m \u001b[38;5;241m0\u001b[39m:\n\u001b[1;32m    411\u001b[0m     fut \u001b[38;5;241m=\u001b[39m ensure_future(fut, loop\u001b[38;5;241m=\u001b[39mloop)\n",
      "File \u001b[0;32m~/miniconda3/lib/python3.10/site-packages/fsspec/callbacks.py:81\u001b[0m, in \u001b[0;36mCallback.branch_coro.<locals>.func\u001b[0;34m(path1, path2, **kwargs)\u001b[0m\n\u001b[1;32m     78\u001b[0m \u001b[38;5;129m@wraps\u001b[39m(fn)\n\u001b[1;32m     79\u001b[0m \u001b[38;5;28;01masync\u001b[39;00m \u001b[38;5;28;01mdef\u001b[39;00m\u001b[38;5;250m \u001b[39m\u001b[38;5;21mfunc\u001b[39m(path1, path2: \u001b[38;5;28mstr\u001b[39m, \u001b[38;5;241m*\u001b[39m\u001b[38;5;241m*\u001b[39mkwargs):\n\u001b[1;32m     80\u001b[0m     \u001b[38;5;28;01mwith\u001b[39;00m \u001b[38;5;28mself\u001b[39m\u001b[38;5;241m.\u001b[39mbranched(path1, path2, \u001b[38;5;241m*\u001b[39m\u001b[38;5;241m*\u001b[39mkwargs) \u001b[38;5;28;01mas\u001b[39;00m child:\n\u001b[0;32m---> 81\u001b[0m         \u001b[38;5;28;01mreturn\u001b[39;00m \u001b[38;5;28;01mawait\u001b[39;00m fn(path1, path2, callback\u001b[38;5;241m=\u001b[39mchild, \u001b[38;5;241m*\u001b[39m\u001b[38;5;241m*\u001b[39mkwargs)\n",
      "File \u001b[0;32m~/miniconda3/lib/python3.10/site-packages/s3fs/core.py:1384\u001b[0m, in \u001b[0;36mS3FileSystem._get_file\u001b[0;34m(self, rpath, lpath, callback, version_id, **kwargs)\u001b[0m\n\u001b[1;32m   1382\u001b[0m                 \u001b[38;5;28;01mbreak\u001b[39;00m\n\u001b[1;32m   1383\u001b[0m             bytes_read \u001b[38;5;241m+\u001b[39m\u001b[38;5;241m=\u001b[39m \u001b[38;5;28mlen\u001b[39m(chunk)\n\u001b[0;32m-> 1384\u001b[0m             segment_len \u001b[38;5;241m=\u001b[39m \u001b[43mf0\u001b[49m\u001b[38;5;241;43m.\u001b[39;49m\u001b[43mwrite\u001b[49m\u001b[43m(\u001b[49m\u001b[43mchunk\u001b[49m\u001b[43m)\u001b[49m\n\u001b[1;32m   1385\u001b[0m             callback\u001b[38;5;241m.\u001b[39mrelative_update(segment_len)\n\u001b[1;32m   1386\u001b[0m \u001b[38;5;28;01mfinally\u001b[39;00m:\n",
      "\u001b[0;31mOSError\u001b[0m: [Errno 28] No space left on device"
     ]
    }
   ],
   "source": [
    "# %%\n",
    "from goes2go import GOES\n",
    "from goes2go.data import goes_timerange\n",
    "# %%\n",
    "start = \"2024-01-01 00:00\"\n",
    "end = \"2024-12-31 23:59\"\n",
    "g = goes_timerange(start, end, satellite=\"goes16\", product=\"GLM-L2-LCFA\", return_as=\"filelist\")\n",
    "# %%"
   ]
  },
  {
   "cell_type": "code",
   "execution_count": 2,
   "metadata": {},
   "outputs": [
    {
     "ename": "FileNotFoundError",
     "evalue": "[Errno 2] No such file or directory: '/Users/janesharai/Desktop/era5_2024/geopotential_height_2024'",
     "output_type": "error",
     "traceback": [
      "\u001b[0;31m---------------------------------------------------------------------------\u001b[0m",
      "\u001b[0;31mFileNotFoundError\u001b[0m                         Traceback (most recent call last)",
      "Cell \u001b[0;32mIn[2], line 5\u001b[0m\n\u001b[1;32m      3\u001b[0m \u001b[38;5;66;03m# Load the NetCDF file\u001b[39;00m\n\u001b[1;32m      4\u001b[0m file_path \u001b[38;5;241m=\u001b[39m \u001b[38;5;124m\"\u001b[39m\u001b[38;5;124m/Users/janesharai/Desktop/era5_2024/geopotential_height_2024\u001b[39m\u001b[38;5;124m\"\u001b[39m\n\u001b[0;32m----> 5\u001b[0m nc \u001b[38;5;241m=\u001b[39m \u001b[43mDataset\u001b[49m\u001b[43m(\u001b[49m\u001b[43mfile_path\u001b[49m\u001b[43m,\u001b[49m\u001b[43m \u001b[49m\u001b[38;5;124;43m\"\u001b[39;49m\u001b[38;5;124;43mr\u001b[39;49m\u001b[38;5;124;43m\"\u001b[39;49m\u001b[43m)\u001b[49m\n\u001b[1;32m      7\u001b[0m \u001b[38;5;66;03m# List all variables\u001b[39;00m\n\u001b[1;32m      8\u001b[0m \u001b[38;5;28mprint\u001b[39m(nc\u001b[38;5;241m.\u001b[39mvariables\u001b[38;5;241m.\u001b[39mkeys())\n",
      "File \u001b[0;32msrc/netCDF4/_netCDF4.pyx:2521\u001b[0m, in \u001b[0;36mnetCDF4._netCDF4.Dataset.__init__\u001b[0;34m()\u001b[0m\n",
      "File \u001b[0;32msrc/netCDF4/_netCDF4.pyx:2158\u001b[0m, in \u001b[0;36mnetCDF4._netCDF4._ensure_nc_success\u001b[0;34m()\u001b[0m\n",
      "\u001b[0;31mFileNotFoundError\u001b[0m: [Errno 2] No such file or directory: '/Users/janesharai/Desktop/era5_2024/geopotential_height_2024'"
     ]
    }
   ],
   "source": [
    "from netCDF4 import Dataset\n",
    "\n",
    "# Load the NetCDF file\n",
    "file_path = \"/Users/janesharai/Desktop/era5_2024/geopotential_height_2024\"\n",
    "nc = Dataset(file_path, \"r\")\n",
    "\n",
    "# List all variables\n",
    "print(nc.variables.keys())\n",
    "\n",
    "# Access a specific variable (e.g., 'temperature')\n",
    "# temp = nc.variables['t'][:]\n",
    "# print(temp)\n",
    "\n",
    "# # Close the file when done\n",
    "# nc.close()\n",
    "\n",
    "print(nc)\n"
   ]
  },
  {
   "cell_type": "code",
   "execution_count": 10,
   "metadata": {},
   "outputs": [
    {
     "data": {
      "text/plain": [
       "masked_array(data=[43.135433,  6.498749],\n",
       "             mask=False,\n",
       "       fill_value=1e+20,\n",
       "            dtype=float32)"
      ]
     },
     "execution_count": 10,
     "metadata": {},
     "output_type": "execute_result"
    }
   ],
   "source": [
    "# lightning_area_lat = nc['lightning_area_lat'][:]\n",
    "# lightning_area_lat"
   ]
  },
  {
   "cell_type": "code",
   "execution_count": null,
   "metadata": {},
   "outputs": [],
   "source": []
  }
 ],
 "metadata": {
  "kernelspec": {
   "display_name": "base",
   "language": "python",
   "name": "python3"
  },
  "language_info": {
   "codemirror_mode": {
    "name": "ipython",
    "version": 3
   },
   "file_extension": ".py",
   "mimetype": "text/x-python",
   "name": "python",
   "nbconvert_exporter": "python",
   "pygments_lexer": "ipython3",
   "version": "3.10.13"
  }
 },
 "nbformat": 4,
 "nbformat_minor": 2
}
